{
 "cells": [
  {
   "cell_type": "code",
   "execution_count": 4,
   "metadata": {},
   "outputs": [],
   "source": [
    "import streamlit as st\n",
    "import pandas as pd\n",
    "import numpy as np\n",
    "import re\n",
    "import nltk\n",
    "from nltk.corpus import stopwords\n",
    "from nltk.stem import PorterStemmer\n",
    "from nltk.tokenize import word_tokenize\n",
    "from sklearn.feature_extraction.text import TfidfVectorizer\n",
    "from sklearn.metrics.pairwise import cosine_similarity\n",
    "import plotly.graph_objects as go\n",
    "from streamlit_lottie import st_lottie\n",
    "import requests\n",
    "import csv\n",
    "from datetime import datetime\n",
    "import os"
   ]
  },
  {
   "cell_type": "code",
   "execution_count": 5,
   "metadata": {},
   "outputs": [],
   "source": [
    "# Set page configuration\n",
    "st.set_page_config(page_title=\"Job Recommendation Dashboard\", layout=\"wide\")"
   ]
  },
  {
   "cell_type": "code",
   "execution_count": 6,
   "metadata": {},
   "outputs": [
    {
     "name": "stderr",
     "output_type": "stream",
     "text": [
      "2024-07-08 22:25:01.304 \n",
      "  \u001b[33m\u001b[1mWarning:\u001b[0m to view this Streamlit app on a browser, run it with the following\n",
      "  command:\n",
      "\n",
      "    streamlit run c:\\Users\\Administrator\\anaconda3\\Lib\\site-packages\\ipykernel_launcher.py [ARGUMENTS]\n"
     ]
    },
    {
     "data": {
      "text/plain": [
       "DeltaGenerator()"
      ]
     },
     "execution_count": 6,
     "metadata": {},
     "output_type": "execute_result"
    }
   ],
   "source": [
    "# Custom CSS for styling\n",
    "st.markdown(\"\"\"\n",
    "    <style>\n",
    "    @import url('https://fonts.googleapis.com/css2?family=Roboto:wght@300;400;700&display=swap');\n",
    "    \n",
    "    body {\n",
    "        font-family: 'Roboto', sans-serif;\n",
    "        color: #FFFFFF;\n",
    "    }\n",
    "    .stApp {\n",
    "        background: linear-gradient(-45deg, #ee7752, #e73c7e, #23a6d5, #23d5ab);\n",
    "        background-size: 400% 400%;\n",
    "        animation: gradient 20s ease infinite;\n",
    "    }\n",
    "    @keyframes gradient {\n",
    "        0% {\n",
    "            background-position: 0% 50%;\n",
    "        }\n",
    "        50% {\n",
    "            background-position: 100% 50%;\n",
    "        }\n",
    "        100% {\n",
    "            background-position: 0% 50%;\n",
    "        }\n",
    "    }\n",
    "    .container {\n",
    "        max-width: 1200px;\n",
    "        margin: 0 auto;\n",
    "        padding: 20px;\n",
    "    }\n",
    "    .big-font {\n",
    "        font-size: 48px !important;\n",
    "        font-weight: 700;\n",
    "        color: #FFFFFF;\n",
    "        margin-bottom: 30px;\n",
    "        text-align: center;\n",
    "        text-shadow: 2px 2px 4px rgba(0,0,0,0.1);\n",
    "    }\n",
    "    .medium-font {\n",
    "        font-size: 32px !important;\n",
    "        font-weight: 700;\n",
    "        color: #FFFFFF;\n",
    "        margin-top: 40px;\n",
    "        margin-bottom: 20px;\n",
    "    }\n",
    "    .small-font {font-size: 18px !important;}\n",
    "    .highlight {\n",
    "        background-color: rgba(0, 0, 0, 0.7);\n",
    "        padding: 25px;\n",
    "        border-radius: 15px;\n",
    "        margin-bottom: 25px;\n",
    "        border-left: 6px solid #4B0082;\n",
    "        box-shadow: 0 4px 6px rgba(255, 255, 255, 0.1);\n",
    "        transition: transform 0.3s ease;\n",
    "    }\n",
    "    .highlight:hover {\n",
    "        transform: translateY(-5px);\n",
    "    }\n",
    "    .job-title {\n",
    "        color: #FFFFFF;\n",
    "        font-size: 24px !important;\n",
    "        font-weight: 700;\n",
    "        margin-bottom: 15px;\n",
    "    }\n",
    "    .job-detail {\n",
    "        margin-left: 25px;\n",
    "        margin-bottom: 8px;\n",
    "        font-size: 16px;\n",
    "        color: #FFFFFF;\n",
    "    }\n",
    "    .stSelectbox {margin-top: 15px; margin-bottom: 15px;}\n",
    "    .user-info {\n",
    "        background-color: rgba(0, 0, 0, 0.7);\n",
    "        padding: 20px;\n",
    "        border-radius: 15px;\n",
    "        margin-top: 25px;\n",
    "        box-shadow: 0 2px 4px rgba(255, 255, 255, 0.05);\n",
    "    }\n",
    "    .stButton>button {\n",
    "        background-color: #4B0082;\n",
    "        color: #FFFFFF;\n",
    "        font-weight: 700;\n",
    "        padding: 12px 24px;\n",
    "        border-radius: 8px;\n",
    "        border: none;\n",
    "        cursor: pointer;\n",
    "        transition: background-color 0.3s, transform 0.2s;\n",
    "        font-size: 16px;\n",
    "    }\n",
    "    .stButton>button:hover {\n",
    "        background-color: #6A0DAD;\n",
    "        transform: translateY(-2px);\n",
    "    }\n",
    "    .stTextInput>div>div>input, .stTextArea>div>div>textarea {\n",
    "        background-color: rgba(0, 0, 0, 0.7);\n",
    "        border: 1px solid #4B0082;\n",
    "        border-radius: 8px;\n",
    "        padding: 10px;\n",
    "        font-size: 16px;\n",
    "        color: #FFFFFF;\n",
    "    }\n",
    "    .stRadio>div {\n",
    "        background-color: rgba(0, 0, 0, 0.7);\n",
    "        border-radius: 8px;\n",
    "        padding: 10px;\n",
    "    }\n",
    "    .stExpander {\n",
    "        background-color: rgba(0, 0, 0, 0.7);\n",
    "        border-radius: 8px;\n",
    "    }\n",
    "    .stMarkdown {\n",
    "        color: #FFFFFF;\n",
    "    }\n",
    "    .css-1d391kg {\n",
    "        background-color: rgba(0, 0, 0, 0.7);\n",
    "    }\n",
    "    \n",
    "    </style>\n",
    "    \"\"\", unsafe_allow_html=True)\n"
   ]
  },
  {
   "cell_type": "code",
   "execution_count": 7,
   "metadata": {},
   "outputs": [
    {
     "data": {
      "text/plain": [
       "True"
      ]
     },
     "execution_count": 7,
     "metadata": {},
     "output_type": "execute_result"
    }
   ],
   "source": [
    "# Download NLTK data\n",
    "nltk.download('punkt', quiet=True)\n",
    "nltk.download('stopwords', quiet=True)"
   ]
  },
  {
   "cell_type": "code",
   "execution_count": 8,
   "metadata": {},
   "outputs": [],
   "source": [
    "# Preprocess text data\n",
    "stop_words = set(stopwords.words(\"english\"))\n",
    "stemmer = PorterStemmer()"
   ]
  },
  {
   "cell_type": "code",
   "execution_count": 9,
   "metadata": {},
   "outputs": [],
   "source": [
    "def preprocess_text(text):\n",
    "    if isinstance(text, str) and text.lower() != 'null' and text.strip() != '':\n",
    "        text = re.sub(r\"[^a-zA-Z\\s]\", \"\", text.lower())\n",
    "        tokens = word_tokenize(text)\n",
    "        filtered_tokens = [stemmer.stem(word) for word in tokens if word.isalnum() and word not in stop_words]\n",
    "        return \" \".join(filtered_tokens)\n",
    "    elif isinstance(text, (int, float)) and not pd.isna(text):\n",
    "        return str(text)\n",
    "    return ''"
   ]
  },
  {
   "cell_type": "code",
   "execution_count": 10,
   "metadata": {},
   "outputs": [
    {
     "name": "stderr",
     "output_type": "stream",
     "text": [
      "2024-07-08 22:25:51.893 No runtime found, using MemoryCacheStorageManager\n",
      "2024-07-08 22:25:51.893 No runtime found, using MemoryCacheStorageManager\n"
     ]
    }
   ],
   "source": [
    "# Load data\n",
    "@st.cache_data\n",
    "def load_data():\n",
    "    education = pd.read_csv('education.csv')\n",
    "    employment = pd.read_csv('employment.csv')\n",
    "    jobs = pd.read_csv('jobs.csv')\n",
    "    return education, employment, jobs\n",
    "\n",
    "education, employment, jobs = load_data()"
   ]
  },
  {
   "cell_type": "code",
   "execution_count": 11,
   "metadata": {},
   "outputs": [],
   "source": [
    "# Merge education and employment data\n",
    "user_data = pd.merge(education, employment, on='applicantId', how='outer')\n"
   ]
  },
  {
   "cell_type": "code",
   "execution_count": 12,
   "metadata": {},
   "outputs": [],
   "source": [
    "# Combine skills and qualifications\n",
    "edu_columns = ['primarySchool', 'secondarySchool', 'graduation', 'degree', 'fieldOfStudy']\n",
    "emp_columns = ['currentDesignation', 'skills']\n",
    "job_columns = ['jobTitle', 'position', 'skills', 'description']\n",
    "\n",
    "user_data['combined_skills'] = user_data[edu_columns + emp_columns].apply(lambda row: ' '.join(row.dropna().astype(str)), axis=1)\n",
    "jobs['combined_skills'] = jobs[job_columns].apply(lambda row: ' '.join(row.dropna().astype(str)), axis=1)\n",
    "\n",
    "user_data['combined_skills'] = user_data['combined_skills'].apply(preprocess_text)\n",
    "jobs['combined_skills'] = jobs['combined_skills'].apply(preprocess_text)"
   ]
  },
  {
   "cell_type": "code",
   "execution_count": 13,
   "metadata": {},
   "outputs": [],
   "source": [
    "# Vectorize skills\n",
    "vectorizer = TfidfVectorizer()\n",
    "job_skills_tfidf = vectorizer.fit_transform(jobs['combined_skills'])"
   ]
  },
  {
   "cell_type": "code",
   "execution_count": 14,
   "metadata": {},
   "outputs": [],
   "source": [
    "# Function to check if description is valid\n",
    "def is_valid_description(description):\n",
    "    if not isinstance(description, str):\n",
    "        return False\n",
    "    words = description.split()\n",
    "    return len(words) >= 5 and len(set(words)) >= 3\n"
   ]
  },
  {
   "cell_type": "code",
   "execution_count": 15,
   "metadata": {},
   "outputs": [],
   "source": [
    "# Function to get job recommendations\n",
    "def get_job_recommendations(user_skills):\n",
    "    user_tfidf = vectorizer.transform([user_skills])\n",
    "    cosine_similarities = cosine_similarity(user_tfidf, job_skills_tfidf).flatten()\n",
    "    job_indices = np.argsort(-cosine_similarities)\n",
    "    return job_indices, cosine_similarities\n"
   ]
  },
  {
   "cell_type": "code",
   "execution_count": 16,
   "metadata": {},
   "outputs": [],
   "source": [
    "# Function to load Lottie animation\n",
    "def load_lottieurl(url: str):\n",
    "    r = requests.get(url)\n",
    "    if r.status_code != 200:\n",
    "        return None\n",
    "    return r.json()"
   ]
  },
  {
   "cell_type": "code",
   "execution_count": 17,
   "metadata": {},
   "outputs": [],
   "source": [
    "# Add this new function to handle saving feedback\n",
    "def save_feedback(feedback, rating):\n",
    "    feedback_file = \"Feedback.csv\"\n",
    "    feedback_exists = os.path.isfile(feedback_file)\n",
    "    \n",
    "    with open(feedback_file, mode='a', newline='', encoding='utf-8') as file:\n",
    "        writer = csv.writer(file)\n",
    "        if not feedback_exists:\n",
    "            writer.writerow([\"Timestamp\", \"Feedback\", \"Rating\"])\n",
    "        \n",
    "        timestamp = datetime.now().strftime(\"%Y-%m-%d %H:%M:%S\")\n",
    "        writer.writerow([timestamp, feedback, rating])"
   ]
  },
  {
   "cell_type": "code",
   "execution_count": 18,
   "metadata": {},
   "outputs": [],
   "source": [
    "# Lottie animation\n",
    "lottie_url = \"https://assets5.lottiefiles.com/packages/lf20_wd1udlcz.json\"\n",
    "lottie_json = load_lottieurl(lottie_url)"
   ]
  },
  {
   "cell_type": "code",
   "execution_count": 19,
   "metadata": {},
   "outputs": [
    {
     "data": {
      "text/plain": [
       "DeltaGenerator()"
      ]
     },
     "execution_count": 19,
     "metadata": {},
     "output_type": "execute_result"
    }
   ],
   "source": [
    "# Streamlit app\n",
    "st.markdown('<div class=\"container\">', unsafe_allow_html=True)\n",
    "st.markdown('<p class=\"big-font\">🚀 Job Recommendation Dashboard</p>', unsafe_allow_html=True)\n"
   ]
  },
  {
   "cell_type": "code",
   "execution_count": 20,
   "metadata": {},
   "outputs": [
    {
     "data": {
      "text/plain": [
       "<streamlit_lottie.st_lottie at 0x176e15c5a10>"
      ]
     },
     "execution_count": 20,
     "metadata": {},
     "output_type": "execute_result"
    }
   ],
   "source": [
    "# Display Lottie animation\n",
    "st_lottie(lottie_json, speed=0.5 , height=200, key=\"initial\")"
   ]
  },
  {
   "cell_type": "code",
   "execution_count": 21,
   "metadata": {},
   "outputs": [
    {
     "data": {
      "text/plain": [
       "DeltaGenerator()"
      ]
     },
     "execution_count": 21,
     "metadata": {},
     "output_type": "execute_result"
    }
   ],
   "source": [
    "# User input\n",
    "col1, col2 = st.columns(2)\n",
    "with col1:\n",
    "    input_type = st.radio(\"Select input type:\", (\"Applicant ID\", \"Skills and Qualifications\"))\n",
    "\n",
    "with col2:\n",
    "    if input_type == \"Applicant ID\":\n",
    "        user_id = st.text_input('Enter User ID (applicantId)', key='user_id')\n",
    "    else:\n",
    "        user_input = st.text_area(\"Enter your Skills and Qualifications\", height=150)\n",
    "\n",
    "if st.button('Get Recommendations'):\n",
    "    if input_type == \"Applicant ID\" and user_id and user_id in user_data['applicantId'].values:\n",
    "        user_info = user_data[user_data['applicantId'] == user_id].iloc[0]\n",
    "        user_skills = user_info['combined_skills']\n",
    "        \n",
    "        # Display user information in sidebar\n",
    "        st.sidebar.markdown('<p class=\"medium-font\">User Information</p>', unsafe_allow_html=True)\n",
    "        is_employed = pd.notna(user_info['employmentId'])\n",
    "        \n",
    "        st.sidebar.markdown('<div class=\"user-info\">', unsafe_allow_html=True)\n",
    "        if is_employed:\n",
    "            st.sidebar.markdown('<p class=\"small-font\">Employment Details:</p>', unsafe_allow_html=True)\n",
    "            for col in emp_columns + ['currentCompany', 'annualSalary']:\n",
    "                if col in user_info and pd.notna(user_info[col]) and str(user_info[col]).lower() != 'null':\n",
    "                    st.sidebar.markdown(f\"• <strong>{col.capitalize()}:</strong> {user_info[col]}\", unsafe_allow_html=True)\n",
    "        else:\n",
    "            st.sidebar.markdown('<p class=\"small-font\">Currently not employed</p>', unsafe_allow_html=True)\n",
    "        st.sidebar.markdown('</div>', unsafe_allow_html=True)\n",
    "    elif input_type == \"Skills and Qualifications\" and user_input:\n",
    "        user_skills = preprocess_text(user_input)\n",
    "    else:\n",
    "        st.error(\"Please enter valid input.\")\n",
    "        st.stop()\n",
    "    \n",
    "    job_indices, cosine_similarities = get_job_recommendations(user_skills)\n",
    "    \n",
    "    if np.any(cosine_similarities > 0.3):\n",
    "        st.markdown('<p class=\"medium-font\">Top Job Recommendations:</p>', unsafe_allow_html=True)\n",
    "        \n",
    "        top_jobs = jobs.iloc[job_indices[:5]]\n",
    "        \n",
    "        # Create a radar chart for skills match\n",
    "        skills = ['Python', 'Java', 'JavaScript', 'SQL', 'Machine Learning']\n",
    "        user_skills_values = [user_skills.count(skill.lower()) for skill in skills]\n",
    "        \n",
    "        fig = go.Figure()\n",
    "        \n",
    "        fig.add_trace(go.Scatterpolar(\n",
    "            r=user_skills_values,\n",
    "            theta=skills,\n",
    "            fill='toself',\n",
    "            name='Your Skills'\n",
    "        ))\n",
    "        \n",
    "        fig.update_layout(\n",
    "            polar=dict(\n",
    "                radialaxis=dict(\n",
    "                    visible=True,\n",
    "                    range=[0, max(user_skills_values)]\n",
    "                )),\n",
    "            showlegend=True,\n",
    "            paper_bgcolor='rgba(0,0,0,0)',\n",
    "            plot_bgcolor='rgba(0,0,0,0)',\n",
    "            font=dict(color='white')\n",
    "        )\n",
    "        \n",
    "        st.plotly_chart(fig)\n",
    "        \n",
    "        for i, (_, job) in enumerate(top_jobs.iterrows(), 1):\n",
    "            st.markdown(f'<div class=\"highlight\">', unsafe_allow_html=True)\n",
    "            st.markdown(f'<p class=\"job-title\">{i}. {job[\"jobTitle\"]} - {job[\"client\"]}</p>', unsafe_allow_html=True)\n",
    "            \n",
    "            col1, col2 = st.columns(2)\n",
    "            \n",
    "            with col1:\n",
    "                st.markdown(f'<p class=\"job-detail\"><strong>Position:</strong> {job[\"position\"]}</p>', unsafe_allow_html=True)\n",
    "                st.markdown(f'<p class=\"job-detail\"><strong>Location:</strong> {job[\"location\"]}</p>', unsafe_allow_html=True)\n",
    "                st.markdown(f'<p class=\"job-detail\"><strong>Job Type:</strong> {job.get(\"jobType\", \"Not Available\")}</p>', unsafe_allow_html=True)\n",
    "            \n",
    "            with col2:\n",
    "                st.markdown(f'<p class=\"job-detail\"><strong>Skills:</strong> {job[\"skills\"]}</p>', unsafe_allow_html=True)\n",
    "                st.markdown(f'<p class=\"job-detail\"><strong>Vacancies:</strong> {job[\"vacancies\"]}</p>', unsafe_allow_html=True)\n",
    "            \n",
    "            with st.expander(\"View More Details\"):\n",
    "                st.markdown(f'<p class=\"job-detail\"><strong>Status:</strong> {job.get(\"status\", \"Not Available\")}</p>', unsafe_allow_html=True)\n",
    "                st.markdown(f'<p class=\"job-detail\"><strong>Recruiter:</strong> {job.get(\"recruiter\", \"Not Available\")}</p>', unsafe_allow_html=True)\n",
    "                \n",
    "                # Display minimum required experience only if it's 10 years or less\n",
    "                min_exp = job.get('minExp')\n",
    "                if min_exp is not None and not pd.isna(min_exp):\n",
    "                    try:\n",
    "                        min_exp = float(min_exp)\n",
    "                        if min_exp <= 10:\n",
    "                            st.markdown(f'<p class=\"job-detail\"><strong>Minimum Required Experience:</strong> {min_exp} years</p>', unsafe_allow_html=True)\n",
    "                    except ValueError:\n",
    "                        pass\n",
    "                \n",
    "                # Add concise description if valid\n",
    "                if pd.notna(job['description']) and is_valid_description(job['description']):\n",
    "                    description = job['description']\n",
    "                    if len(description) > 200:\n",
    "                        description = description[:200] + \"...\"\n",
    "                    st.markdown(f'<p class=\"job-detail\"><strong>Description:</strong> {description}</p>', unsafe_allow_html=True)\n",
    "            \n",
    "            st.markdown(\"</div>\", unsafe_allow_html=True)\n",
    "    else:\n",
    "        st.warning(\"No jobs available closely matching your input. Try broadening your search terms or consider adding relevant skills to your profile.\")\n",
    "\n",
    "st.markdown('</div>', unsafe_allow_html=True)"
   ]
  },
  {
   "cell_type": "code",
   "execution_count": 22,
   "metadata": {},
   "outputs": [],
   "source": [
    "# Add some metrics or KPIs\n",
    "st.markdown('<p class=\"medium-font\">Dashboard Metrics</p>', unsafe_allow_html=True)\n",
    "\n",
    "col1, col2, col3 = st.columns(3)\n",
    "\n",
    "with col1:\n",
    "    st.metric(label=\"Total Jobs\", value=len(jobs), delta=\"5%\")\n",
    "\n",
    "with col2:\n",
    "    st.metric(label=\"Active Users\", value=\"1,234\", delta=\"10%\")\n",
    "\n",
    "with col3:\n",
    "    st.metric(label=\"Successful Placements\", value=\"567\", delta=\"15%\")\n"
   ]
  },
  {
   "cell_type": "code",
   "execution_count": 23,
   "metadata": {},
   "outputs": [
    {
     "data": {
      "text/plain": [
       "DeltaGenerator()"
      ]
     },
     "execution_count": 23,
     "metadata": {},
     "output_type": "execute_result"
    }
   ],
   "source": [
    "# Add a chart showing job distribution by industry\n",
    "industry_counts = jobs['client'].value_counts().head(10)\n",
    "\n",
    "fig = go.Figure(data=[go.Bar(\n",
    "    x=industry_counts.index,\n",
    "    y=industry_counts.values,\n",
    "    marker_color='#4B0082'\n",
    ")])\n",
    "\n",
    "fig.update_layout(\n",
    "    title=\"Top 10 Industries with Job Openings\",\n",
    "    xaxis_title=\"Industry\",\n",
    "    yaxis_title=\"Number of Job Openings\",\n",
    "    paper_bgcolor='rgba(0,0,0,0)',\n",
    "    plot_bgcolor='rgba(0,0,0,0)',\n",
    "    font=dict(color='white')\n",
    ")\n",
    "\n",
    "st.plotly_chart(fig)\n"
   ]
  },
  {
   "cell_type": "code",
   "execution_count": 24,
   "metadata": {},
   "outputs": [],
   "source": [
    "# Modify the feedback section\n",
    "st.markdown('<p class=\"medium-font\">User Feedback</p>', unsafe_allow_html=True)\n",
    "\n",
    "feedback = st.text_area(\"Please provide your feedback on the job recommendations:\", height=100)\n",
    "rating = st.slider(\"Rate your experience (1-5 stars)\", min_value=1, max_value=5, value=1)\n",
    "\n",
    "if st.button(\"Submit Feedback\"):\n",
    "    if feedback.strip() != \"\":\n",
    "        save_feedback(feedback, rating)\n",
    "        st.success(\"Thank you for your feedback! We appreciate your input.\")\n",
    "    else:\n",
    "        st.warning(\"Please enter some feedback before submitting.\")\n",
    "\n"
   ]
  },
  {
   "cell_type": "code",
   "execution_count": 25,
   "metadata": {},
   "outputs": [],
   "source": [
    "# Add a FAQ section\n",
    "st.markdown('<p class=\"medium-font\">Frequently Asked Questions</p>', unsafe_allow_html=True)\n",
    "\n",
    "faq_data = [\n",
    "    (\"How are job recommendations generated?\", \"Our system uses advanced machine learning algorithms to match your skills and experience with available job openings.\"),\n",
    "    (\"Can I update my profile?\", \"Yes, you can update your profile by logging into your account and navigating to the 'Edit Profile' section.\"),\n",
    "    (\"How often are new jobs added?\", \"New job listings are added daily. We recommend checking back regularly for the latest opportunities.\"),\n",
    "    (\"What should I do if I find a job I'm interested in?\", \"Click on the job listing to view more details and follow the application instructions provided by the employer.\")\n",
    "]\n",
    "\n",
    "for question, answer in faq_data:\n",
    "    with st.expander(question):\n",
    "        st.write(answer)\n",
    "\n"
   ]
  },
  {
   "cell_type": "code",
   "execution_count": 26,
   "metadata": {},
   "outputs": [
    {
     "data": {
      "text/plain": [
       "DeltaGenerator()"
      ]
     },
     "execution_count": 26,
     "metadata": {},
     "output_type": "execute_result"
    }
   ],
   "source": [
    "# End of the dashboard\n",
    "st.markdown('<p class=\"small-font\" style=\"text-align: center; margin-top: 50px;\">Thank you for using our Job Recommendation Dashboard!</p>', unsafe_allow_html=True)\n",
    "\n"
   ]
  },
  {
   "cell_type": "code",
   "execution_count": 27,
   "metadata": {},
   "outputs": [
    {
     "data": {
      "text/plain": [
       "DeltaGenerator()"
      ]
     },
     "execution_count": 27,
     "metadata": {},
     "output_type": "execute_result"
    }
   ],
   "source": [
    "# Footer\n",
    "st.markdown(\"\"\"\n",
    "<div style=\"text-align: center; margin-top: 50px; padding: 25px; background-color: rgba(0, 0, 0, 0.7); border-radius: 15px; box-shadow: 0 2px 4px rgba(255, 255, 255, 0.05);\">\n",
    "    <p style=\"color: #FFFFFF; font-size: 16px; font-weight: 500;\">© 2024 Job Recommendation Dashboard. All rights reserved.</p>\n",
    "</div>\n",
    "\"\"\", unsafe_allow_html=True)"
   ]
  },
  {
   "cell_type": "code",
   "execution_count": null,
   "metadata": {},
   "outputs": [],
   "source": []
  }
 ],
 "metadata": {
  "kernelspec": {
   "display_name": "base",
   "language": "python",
   "name": "python3"
  },
  "language_info": {
   "codemirror_mode": {
    "name": "ipython",
    "version": 3
   },
   "file_extension": ".py",
   "mimetype": "text/x-python",
   "name": "python",
   "nbconvert_exporter": "python",
   "pygments_lexer": "ipython3",
   "version": "3.11.5"
  }
 },
 "nbformat": 4,
 "nbformat_minor": 2
}
